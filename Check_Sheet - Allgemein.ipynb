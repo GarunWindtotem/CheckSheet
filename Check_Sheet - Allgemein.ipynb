{
 "cells": [
  {
   "cell_type": "markdown",
   "metadata": {},
   "source": [
    "# Qualitätsregelkarte"
   ]
  },
  {
   "cell_type": "code",
   "execution_count": 6,
   "metadata": {},
   "outputs": [],
   "source": [
    "#Programm_Name = \"CheckSheet\" # 04.01.2021 - Time Series Impffdaten erstellen"
   ]
  },
  {
   "cell_type": "code",
   "execution_count": 7,
   "metadata": {},
   "outputs": [],
   "source": [
    "import pandas as pd #Daten\n",
    "from matplotlib import pyplot as plt # plots\n",
    "#import matplotlib as mpl\n",
    "from matplotlib.ticker import FuncFormatter   # Numberformat plot ticks\n",
    "import numpy as np\n",
    "\n",
    "# für Timeseries Daten\n",
    "from datetime import datetime\n",
    "from datetime import date # todays date\n",
    "#import seaborn as sns\n",
    "\n",
    "import math   # for py\n",
    "\n",
    "# import os\n",
    "now = datetime.now()"
   ]
  },
  {
   "cell_type": "markdown",
   "metadata": {},
   "source": [
    "## Variablen"
   ]
  },
  {
   "cell_type": "code",
   "execution_count": 8,
   "metadata": {},
   "outputs": [
    {
     "name": "stdout",
     "output_type": "stream",
     "text": [
      "10\n"
     ]
    }
   ],
   "source": [
    "today = date.today().strftime(\"%d.%m.%Y\")\n",
    "\n",
    "# MESSUNG DEFINIEREN \n",
    "\n",
    "##### DATAFRAME #####\n",
    "soll = 100\n",
    "OT = 5 \n",
    "UT = 5\n",
    "toleranz = OT + UT\n",
    "print(toleranz)\n",
    "### laufende Mittelwerte / Standardabweichung anzeigen ja/nein?\n",
    "rolling_bool = True\n",
    "\n",
    "### DIAGRAMM #### \n",
    "\n",
    "plot_title = \"Title\"\n",
    "plot_subtitle = f'{today} PW'\n",
    "\n",
    "xlabel = \"Messung Nr.\"\n",
    "ylabel = \"Temperatur [°C]\"\n",
    "\n",
    "rolling_anzahl = 5\n",
    "\n",
    "# größe der Texte im Chart\n",
    "size = 45\n",
    "sizefactor_title = 1\n",
    "sizefactor_subtitle = 0.5\n",
    "sizefactor_textbox = 0.5\n",
    "sizefactor_xyticks = 0.5\n",
    "sizefactor_xylabel = 0.7\n",
    "sizefactor_marker = 0.5\n",
    "sizefactor_legend = 0.7\n",
    "\n",
    "\n",
    "### eher unveränderliche label (standards)\n",
    "plot_label_OTUT = \"OTG, UTG\"\n",
    "plot_label_SOLL = \"SOLL\"\n",
    "plot_label_Mittelwert = \"Mittelwert\"\n",
    "\n",
    "\n",
    "##### OHNE VERWENDUNG ######\n",
    "pi = math.pi\n",
    "e = math.e"
   ]
  },
  {
   "cell_type": "code",
   "execution_count": 9,
   "metadata": {},
   "outputs": [],
   "source": [
    "pfad = \"D:\\\\Github\\\\CheckSheet\\\\\"            # Zuhause Pfad\n",
    "# pfad = \"C:\\\\Users\\\\p.waitz\\\\Python\\\\CheckSheet\\\\\"   # Geschäftsrechner Pfad\n",
    "pfad_input = \"Input\\\\df_input.csv\"\n",
    "pfad_output =\"Output\\\\\"\n",
    "\n",
    "pfad_onedrive = \"D:\\\\OneDrive\\\\CheckSheet\\\\\"\n",
    "\n",
    "# xticks\n",
    "rotation = 0\n",
    "\n",
    "# Linien Stärke\n",
    "lws = 3\n",
    "lwb = 7\n",
    "# Bezugsschriftgröße\n",
    "\n",
    "\n",
    "# output größe der bilder\n",
    "h = 16*1.431*1.0264\n",
    "v = 9*0.997*0.9973\n",
    "dpi = 200"
   ]
  },
  {
   "cell_type": "markdown",
   "metadata": {},
   "source": [
    "## Datenimport"
   ]
  },
  {
   "cell_type": "code",
   "execution_count": 10,
   "metadata": {
    "scrolled": false
   },
   "outputs": [],
   "source": [
    "# CSV einlesen\n",
    "df = pd.read_csv(pfad + pfad_input, sep = \";\", decimal = ',')\n",
    "#df"
   ]
  },
  {
   "cell_type": "code",
   "execution_count": 11,
   "metadata": {
    "scrolled": true
   },
   "outputs": [
    {
     "data": {
      "text/plain": [
       "x_axis      int64\n",
       "value     float64\n",
       "dtype: object"
      ]
     },
     "execution_count": 11,
     "metadata": {},
     "output_type": "execute_result"
    }
   ],
   "source": [
    "# Datentypen\n",
    "df.dtypes"
   ]
  },
  {
   "cell_type": "markdown",
   "metadata": {},
   "source": [
    "## preprocessing"
   ]
  },
  {
   "cell_type": "code",
   "execution_count": 12,
   "metadata": {
    "scrolled": false
   },
   "outputs": [
    {
     "name": "stdout",
     "output_type": "stream",
     "text": [
      " sigma= 1.0586454588707244 mean= 97.28676978899999\n",
      "2.2\n",
      "15.5\n",
      "0.10586454588707284\n"
     ]
    },
    {
     "data": {
      "text/html": [
       "<div>\n",
       "<style scoped>\n",
       "    .dataframe tbody tr th:only-of-type {\n",
       "        vertical-align: middle;\n",
       "    }\n",
       "\n",
       "    .dataframe tbody tr th {\n",
       "        vertical-align: top;\n",
       "    }\n",
       "\n",
       "    .dataframe thead th {\n",
       "        text-align: right;\n",
       "    }\n",
       "</style>\n",
       "<table border=\"1\" class=\"dataframe\">\n",
       "  <thead>\n",
       "    <tr style=\"text-align: right;\">\n",
       "      <th></th>\n",
       "      <th>x_axis</th>\n",
       "      <th>value</th>\n",
       "      <th>OTG</th>\n",
       "      <th>UTG</th>\n",
       "      <th>SOLL</th>\n",
       "      <th>value_mean</th>\n",
       "      <th>value_std+</th>\n",
       "      <th>value_std-</th>\n",
       "      <th>mean_rolling</th>\n",
       "      <th>std_rolling+</th>\n",
       "      <th>std_rolling-</th>\n",
       "      <th>streuung_prozent</th>\n",
       "    </tr>\n",
       "  </thead>\n",
       "  <tbody>\n",
       "    <tr>\n",
       "      <th>0</th>\n",
       "      <td>1</td>\n",
       "      <td>97.530612</td>\n",
       "      <td>105</td>\n",
       "      <td>95</td>\n",
       "      <td>100</td>\n",
       "      <td>97.28677</td>\n",
       "      <td>98.345415</td>\n",
       "      <td>96.228124</td>\n",
       "      <td>97.530612</td>\n",
       "      <td>97.754727</td>\n",
       "      <td>97.306497</td>\n",
       "      <td>2.241151</td>\n",
       "    </tr>\n",
       "    <tr>\n",
       "      <th>1</th>\n",
       "      <td>2</td>\n",
       "      <td>97.082389</td>\n",
       "      <td>105</td>\n",
       "      <td>95</td>\n",
       "      <td>100</td>\n",
       "      <td>97.28677</td>\n",
       "      <td>98.345415</td>\n",
       "      <td>96.228124</td>\n",
       "      <td>97.306500</td>\n",
       "      <td>97.631327</td>\n",
       "      <td>96.981674</td>\n",
       "      <td>3.248267</td>\n",
       "    </tr>\n",
       "    <tr>\n",
       "      <th>2</th>\n",
       "      <td>3</td>\n",
       "      <td>97.304422</td>\n",
       "      <td>105</td>\n",
       "      <td>95</td>\n",
       "      <td>100</td>\n",
       "      <td>97.28677</td>\n",
       "      <td>98.345415</td>\n",
       "      <td>96.228124</td>\n",
       "      <td>97.305808</td>\n",
       "      <td>97.621387</td>\n",
       "      <td>96.990228</td>\n",
       "      <td>3.155799</td>\n",
       "    </tr>\n",
       "    <tr>\n",
       "      <th>3</th>\n",
       "      <td>4</td>\n",
       "      <td>97.842566</td>\n",
       "      <td>105</td>\n",
       "      <td>95</td>\n",
       "      <td>100</td>\n",
       "      <td>97.28677</td>\n",
       "      <td>98.345415</td>\n",
       "      <td>96.228124</td>\n",
       "      <td>97.439997</td>\n",
       "      <td>98.481266</td>\n",
       "      <td>96.398728</td>\n",
       "      <td>10.412685</td>\n",
       "    </tr>\n",
       "  </tbody>\n",
       "</table>\n",
       "</div>"
      ],
      "text/plain": [
       "   x_axis      value  OTG  UTG  SOLL  value_mean  value_std+  value_std-  \\\n",
       "0       1  97.530612  105   95   100    97.28677   98.345415   96.228124   \n",
       "1       2  97.082389  105   95   100    97.28677   98.345415   96.228124   \n",
       "2       3  97.304422  105   95   100    97.28677   98.345415   96.228124   \n",
       "3       4  97.842566  105   95   100    97.28677   98.345415   96.228124   \n",
       "\n",
       "   mean_rolling  std_rolling+  std_rolling-  streuung_prozent  \n",
       "0     97.530612     97.754727     97.306497          2.241151  \n",
       "1     97.306500     97.631327     96.981674          3.248267  \n",
       "2     97.305808     97.621387     96.990228          3.155799  \n",
       "3     97.439997     98.481266     96.398728         10.412685  "
      ]
     },
     "execution_count": 12,
     "metadata": {},
     "output_type": "execute_result"
    }
   ],
   "source": [
    "# df[\"SOLL\"] = soll\n",
    "df[\"OTG\"] = soll + OT\n",
    "df[\"UTG\"] = soll - UT\n",
    "df[\"SOLL\"] = soll\n",
    "\n",
    "sigma = df[\"value\"].std()\n",
    "mean = df[\"value\"].mean()\n",
    "print(f' sigma= {sigma} mean= {mean}')\n",
    "\n",
    "df[\"value_mean\"] = mean\n",
    "df[\"value_std+\"] = mean + sigma\n",
    "df[\"value_std-\"] = mean - sigma\n",
    "\n",
    "df[\"mean_rolling\"] = df.value.rolling(window=rolling_anzahl, min_periods=1).mean()\n",
    "df[\"std_rolling+\"] = df[\"mean_rolling\"] + df.value.rolling(window=rolling_anzahl, min_periods=1, center = True).std()\n",
    "df[\"std_rolling-\"] = df[\"mean_rolling\"] - df.value.rolling(window=rolling_anzahl, min_periods=1, center = True).std()\n",
    "\n",
    "df[\"streuung_prozent\"] = 100 * ( (df[\"std_rolling+\"] - df[\"mean_rolling\"]) / toleranz )\n",
    "\n",
    "streuung_min = round(df[\"streuung_prozent\"].min(),1)\n",
    "print(streuung_min)\n",
    "streuung_max = round(df[\"streuung_prozent\"].max(),1)\n",
    "print(streuung_max)\n",
    "streuung_mittel = ((df[\"value_std+\"] - df[\"value_mean\"]).mean()) / toleranz\n",
    "print(streuung_mittel)\n",
    "\n",
    "df.head(4)"
   ]
  },
  {
   "cell_type": "code",
   "execution_count": null,
   "metadata": {},
   "outputs": [],
   "source": []
  },
  {
   "cell_type": "markdown",
   "metadata": {},
   "source": [
    "# Variablen für die Plots definieren"
   ]
  },
  {
   "cell_type": "code",
   "execution_count": 13,
   "metadata": {},
   "outputs": [],
   "source": [
    "rot = '#f80d0d'\n",
    "cyan = '#25e5e5'\n",
    "blau = '#0721ff'\n",
    "lila = '#bb8fce'\n",
    "gruen = '#18c213'\n",
    "schwarz = '#000000'\n",
    "orange = '#faac2b'"
   ]
  },
  {
   "cell_type": "markdown",
   "metadata": {},
   "source": [
    "### dynamische Position der Textbox - abhängig von OTG, UTG, x-achse"
   ]
  },
  {
   "cell_type": "code",
   "execution_count": 14,
   "metadata": {},
   "outputs": [
    {
     "name": "stdout",
     "output_type": "stream",
     "text": [
      "10\n",
      "y = 103.5\n",
      "x = 6.0\n",
      "105\n"
     ]
    }
   ],
   "source": [
    "k = (df[\"OTG\"].max() - df[\"UTG\"].max())   # Spannweite zwischen OTG und UTG\n",
    "print(k)\n",
    "y = float(max(df[\"OTG\"]) - k*0.15)   # Referenzpunkt soll sein: OTG - 10% der Spannweite \n",
    "print(f'y = {y}')\n",
    "\n",
    "x=float((1/2)*df[\"x_axis\"].count()+1)\n",
    "print(f'x = {x}')\n",
    "\n",
    "OTG = df[\"OTG\"].max()\n",
    "print(OTG)"
   ]
  },
  {
   "cell_type": "markdown",
   "metadata": {},
   "source": [
    "### Datenexport"
   ]
  },
  {
   "cell_type": "code",
   "execution_count": 15,
   "metadata": {},
   "outputs": [],
   "source": [
    "df.to_excel(pfad+pfad_output+\"df.xlsx\")"
   ]
  },
  {
   "cell_type": "markdown",
   "metadata": {},
   "source": [
    "### Visualisierung"
   ]
  },
  {
   "cell_type": "code",
   "execution_count": 16,
   "metadata": {},
   "outputs": [
    {
     "data": {
      "text/plain": [
       "10"
      ]
     },
     "execution_count": 16,
     "metadata": {},
     "output_type": "execute_result"
    }
   ],
   "source": [
    "x_axis=df[\"x_axis\"].tolist()\n",
    "x_axis\n",
    "len(x_axis)"
   ]
  },
  {
   "cell_type": "code",
   "execution_count": 17,
   "metadata": {
    "scrolled": true
   },
   "outputs": [
    {
     "data": {
      "image/png": "[encoded data removed]",
      "text/plain": [
       "<Figure size 1692.03x644.312 with 1 Axes>"
      ]
     },
     "metadata": {
      "needs_background": "light"
     },
     "output_type": "display_data"
    }
   ],
   "source": [
    "# def y_axis_thousands(x, pos):\n",
    "#    # 'The two args are the value and tick position'\n",
    "#     return '{:0,d}'.format(int(x)).replace(\",\",\".\")\n",
    "# formatter = FuncFormatter(y_axis_thousands)\n",
    "\n",
    "# fig = plt.figure(figsize=(h,v))\n",
    "# ax = fig.add_subplot()\n",
    "# ax.yaxis.set_major_formatter(formatter)\n",
    "plt.figure(figsize=(h,v))\n",
    "\n",
    "plt.style.use('seaborn')\n",
    "plt.grid(True)\n",
    "\n",
    "### SOLL, OTG, UTG ###\n",
    "plt.plot(df.x_axis,df.OTG, color='red', linestyle = 'dashed', linewidth = lws, label =plot_label_OTUT)\n",
    "plt.plot(df.x_axis,df.SOLL, color='green', linestyle = 'dashed', linewidth = lws, label =plot_label_SOLL)\n",
    "plt.plot(df.x_axis,df.UTG, color='red', linestyle = 'dashed', linewidth = lws, label =\"\")\n",
    "\n",
    "### values ###\n",
    "plt.plot(df.x_axis,df['value'], marker='.', linestyle='', \n",
    "         color=schwarz, linewidth = lws, label = \"Einzelmesswerte\", markersize = size*sizefactor_marker)\n",
    "\n",
    "### Darstellung der rolling Darstellung oder mit konstanten Werten\n",
    "if rolling_bool == True:\n",
    "    # rolling\n",
    "    plt.plot(df.x_axis,df['mean_rolling'], marker='', linestyle='-', color=schwarz, linewidth = lws, \n",
    "             label = f'laufender Mittelwert ({rolling_anzahl})', markersize = size*sizefactor_marker)\n",
    "    plt.plot(df.x_axis,df['std_rolling+'], marker='', linestyle='', color=schwarz, linewidth = lws, \n",
    "             label = '', markersize = size*sizefactor_marker)        \n",
    "    plt.plot(df.x_axis,df['std_rolling-'], marker='', linestyle='', color=schwarz, linewidth = lws, \n",
    "             label = '', markersize = size*sizefactor_marker)    \n",
    "    plt.fill_between(df.x_axis, df['std_rolling+'], df['std_rolling-'] , color='grey',alpha=0.5, label \n",
    "                     = f'laufendes sigma ({rolling_anzahl})')\n",
    "    plt.text(x-0.5, y, f'Streuung mittel = {round((100)*sigma/toleranz,1)} % ({round( 100 / ((100)*sigma/toleranz),1)} sigma)\\n min = {streuung_min} %,   max = {streuung_max} %'  , \n",
    "         horizontalalignment='center', size=size*sizefactor_textbox, style='italic',\n",
    "         bbox={'facecolor': \"blue\", 'alpha': 0.5, 'pad': 5})\n",
    "\n",
    "else:\n",
    "    plt.plot(df.x_axis, df[\"value_mean\"], color='grey', linestyle = '-.', linewidth = lws, label=plot_label_Mittelwert)\n",
    "    plt.plot(df.x_axis,df[\"value_std+\"], color='grey', linestyle = '-', linewidth = lws, label =\"\")\n",
    "    plt.plot(df.x_axis,df[\"value_std-\"], color='grey', linestyle = '-', linewidth = lws, label =\"\")\n",
    "    plt.fill_between(df.x_axis, df['value_std+'], df['value_std-'] , color='grey',alpha=0.5, label = \"±1 sigma\")\n",
    "    plt.text(x-0.5, y, r'mittlere Streuung =  $\\frac{sigma\\ }{(1/2)\\cdot(OTG\\ - UTG)\\ }\\cdot100$ = 'f'{round((100)*sigma/toleranz,1)} % (= {round( 100 / ((100)*sigma/toleranz),1)} sigma)' , \n",
    "         horizontalalignment='center', size=size*sizefactor_textbox, style='italic',\n",
    "         bbox={'facecolor': \"blue\", 'alpha': 0.5, 'pad': 5})\n",
    "\n",
    "\n",
    "# plt.text(x-0.5, y, r'mittlere Streuung =  $\\frac{sigma\\ }{(1/2)\\cdot(OTG\\ - UTG)\\ }\\cdot100$ = 'f'{round((100)*sigma/toleranz,1)} % (= {round( 100 / ((100)*sigma/toleranz),1)} sigma)' , \n",
    "#      horizontalalignment='center', size=size*sizefactor_textbox, style='italic',\n",
    "#      bbox={'facecolor': \"blue\", 'alpha': 0.5, 'pad': 5})\n",
    "\n",
    "    \n",
    "    \n",
    "# plt.text(x-0.5, y, r'mittlere Streuung =  $\\frac{sigma\\ }{(1/2)\\cdot(OTG\\ - UTG)\\ }\\cdot100$ = 'f'{round((100)*sigma/toleranz,1)} % (= {round( 100 / ((100)*sigma/toleranz),1)} sigma)'  , \n",
    "#      horizontalalignment='center', size=size*sizefactor_textbox, style='italic',\n",
    "#      bbox={'facecolor': \"blue\", 'alpha': 0.5, 'pad': 5})\n",
    "\n",
    "# Legende \n",
    "plt.legend(loc='upper center', \n",
    "           bbox_to_anchor=(0.5, -0.2),\n",
    "           fancybox=True, \n",
    "           shadow=True, \n",
    "           ncol=3, \n",
    "           fontsize=size*sizefactor_legend)\n",
    "\n",
    "# Schriftgrößen x und y achsenwerte\n",
    "# plt.margins(x=0)\n",
    "plt.xticks(fontsize=size*sizefactor_xyticks, rotation = rotation)\n",
    "plt.yticks(fontsize=size*sizefactor_xyticks)\n",
    "\n",
    "plt.ylabel(ylabel, fontsize=size*sizefactor_xylabel)\n",
    "plt.xlabel(xlabel, fontsize=size*sizefactor_xylabel)\n",
    "\n",
    "plt.title(f'{plot_title}\\n', fontsize=size)\n",
    "plt.suptitle(plot_subtitle , fontsize=size*sizefactor_subtitle, y=0.92)\n",
    "\n",
    "x_axis=df[\"x_axis\"].tolist()\n",
    "if max(x_axis) > 10:\n",
    "    plt.xticks(np.arange(min(x_axis), max(x_axis)+1, round(max(x_axis)/10)))     # Teile x-achse in 10 Teile \n",
    "elif max(x_axis) <= 10:\n",
    "    plt.xticks(np.arange(min(x_axis), max(x_axis)+1, 1))     # Teile x-achse nicht\n",
    "\n",
    "# Diagramm als Bild exporieren und Auflösung definieren\n",
    "\n",
    "if rolling_bool == True:\n",
    "    plt.savefig(pfad + pfad_output + \"diagram dynamic mean.png\", dpi = dpi, bbox_inches='tight')\n",
    "    plt.savefig(pfad_onedrive + \"diagram dynamic mean.png\", dpi = dpi, bbox_inches='tight')\n",
    "else:\n",
    "    plt.savefig(pfad + pfad_output + \"diagram static mean.png\", dpi = dpi, bbox_inches='tight')\n",
    "    plt.savefig(pfad_onedrive + \"diagram static mean.png\", dpi = dpi, bbox_inches='tight')\n",
    "    \n",
    "plt.show()"
   ]
  },
  {
   "cell_type": "code",
   "execution_count": null,
   "metadata": {},
   "outputs": [],
   "source": []
  },
  {
   "cell_type": "code",
   "execution_count": null,
   "metadata": {},
   "outputs": [],
   "source": []
  }
 ],
 "metadata": {
  "kernelspec": {
   "display_name": "Python 3",
   "language": "python",
   "name": "python3"
  },
  "language_info": {
   "codemirror_mode": {
    "name": "ipython",
    "version": 3
   },
   "file_extension": ".py",
   "mimetype": "text/x-python",
   "name": "python",
   "nbconvert_exporter": "python",
   "pygments_lexer": "ipython3",
   "version": "3.8.3"
  }
 },
 "nbformat": 4,
 "nbformat_minor": 4
}
